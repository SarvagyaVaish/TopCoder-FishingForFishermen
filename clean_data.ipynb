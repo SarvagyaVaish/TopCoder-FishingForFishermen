{
 "cells": [
  {
   "cell_type": "code",
   "execution_count": 29,
   "metadata": {
    "collapsed": true
   },
   "outputs": [],
   "source": [
    "import pprint\n",
    "import csv\n",
    "import ais\n",
    "import tensorflow as tf\n",
    "\n",
    "pp = pprint.PrettyPrinter(indent=4)"
   ]
  },
  {
   "cell_type": "code",
   "execution_count": 37,
   "metadata": {
    "collapsed": false
   },
   "outputs": [],
   "source": [
    "# Fields\n",
    "primaryFields = ['TIMESTAMP','TIME','MESSAGE_ID','MMSI','LAT','LONG','POS_ACCURACY','NAV_STATUS','SOG','COG','TRUE_HEADING','RAW_MESSAGE','FISHING_STATUS']\n",
    "\n",
    "payloadFields = ['slot_increment', 'sync_state', 'true_heading', 'sog', 'slots_to_allocate', 'rot', 'nav_status', 'repeat_indicator', 'raim', 'id', 'spare', 'keep_flag', 'cog', 'timestamp', 'y', 'x', 'position_accuracy', 'rot_over_range', 'mmsi', 'special_manoeuvre', 'slot_timeout', 'slot_offset', 'slot_number', 'received_stations', 'utc_spare', 'utc_min', 'utc_hour', 'unit_flag', 'spare2', 'mode_flag', 'm22_flag', 'commstate_cs_fill', 'commstate_flag', 'display_flag', 'dsc_flag', 'band_flag', 'gnss', 'fix_type', 'type_and_cargo', 'spare3', 'dim_d', 'assigned_mode', 'dim_b', 'dim_c', 'dim_a', 'name', 'dte']\n",
    "\n",
    "fieldnames = payloadFields + ['TIMESTAMP', 'FISHING_STATUS', 'F1', 'F2', 'F3', 'F4', 'F5']"
   ]
  },
  {
   "cell_type": "code",
   "execution_count": 38,
   "metadata": {
    "collapsed": true
   },
   "outputs": [],
   "source": [
    "# Open a new csv file to write out cleaned data\n",
    "outputFile = open('data/clean.csv', 'wb')\n",
    "writer = csv.DictWriter(outputFile, fieldnames=fieldnames)\n",
    "writer.writeheader()"
   ]
  },
  {
   "cell_type": "code",
   "execution_count": 39,
   "metadata": {
    "collapsed": false,
    "scrolled": false
   },
   "outputs": [
    {
     "name": "stdout",
     "output_type": "stream",
     "text": [
      "----\n"
     ]
    }
   ],
   "source": [
    "# Read file line by line\n",
    "with open('data/training_data.csv') as inputFile:\n",
    "    reader = csv.DictReader(inputFile)\n",
    "    \n",
    "    # 'row' is a dictionary of data, keyed by\n",
    "    # the values in the first row of the csv file.\n",
    "    for row in reader:\n",
    "\n",
    "        rawMsg = row['RAW_MESSAGE']\n",
    "        rawMsgElms = rawMsg.split(',')\n",
    "        \n",
    "        for i in range(len(rawMsgElms)) :\n",
    "            # Add generic fields 1-5\n",
    "            if i + 1 <= 5 :\n",
    "                row['F' + str(i + 1)] = rawMsgElms[i]\n",
    "\n",
    "            # Decode and add payload\n",
    "            if i + 1 == 6 :\n",
    "                decodedMsg = ais.decode(rawMsgElms[i], 0)\n",
    "                for k in decodedMsg.keys() :\n",
    "                    row[k] = decodedMsg[k]\n",
    "            \n",
    "            # Checksum using field 7\n",
    "            if i + 1 == 7 :\n",
    "                checksum = 0;\n",
    "                m = rawMsg[1:-3]\n",
    "                for j in range(len(m)) :\n",
    "                    checksum = checksum ^ ord(m[j]);\n",
    "                checksum = format(checksum, '02X')\n",
    "                \n",
    "                if checksum != rawMsgElms[i][2:] :\n",
    "                    print('checksum did not match')\n",
    "                    print(rawMsg)\n",
    "        \n",
    "        data = {}\n",
    "        for k in fieldnames :\n",
    "            if k in row :\n",
    "                data[k] = row[k]\n",
    "            else :\n",
    "                data[k] = ''\n",
    "\n",
    "        writer.writerow(data)\n",
    "#         pp.pprint(row)\n",
    "\n",
    "print('----')"
   ]
  },
  {
   "cell_type": "code",
   "execution_count": 40,
   "metadata": {
    "collapsed": true
   },
   "outputs": [],
   "source": [
    "outputFile.close()"
   ]
  },
  {
   "cell_type": "code",
   "execution_count": null,
   "metadata": {
    "collapsed": true
   },
   "outputs": [],
   "source": []
  }
 ],
 "metadata": {
  "kernelspec": {
   "display_name": "Python 2",
   "language": "python",
   "name": "python2"
  },
  "language_info": {
   "codemirror_mode": {
    "name": "ipython",
    "version": 2
   },
   "file_extension": ".py",
   "mimetype": "text/x-python",
   "name": "python",
   "nbconvert_exporter": "python",
   "pygments_lexer": "ipython2",
   "version": "2.7.6"
  }
 },
 "nbformat": 4,
 "nbformat_minor": 0
}
